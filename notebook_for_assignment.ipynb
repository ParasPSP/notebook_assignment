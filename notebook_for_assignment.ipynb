{
 "cells": [
  {
   "cell_type": "markdown",
   "metadata": {},
   "source": [
    "<h1>\n",
    "    My Jupyter Notebook on IBM Watson Studio\n",
    "</h1>"
   ]
  },
  {
   "cell_type": "markdown",
   "metadata": {
    "tags": []
   },
   "source": [
    "# Paras Pathak\n",
    "### A Part-Time Tutor"
   ]
  },
  {
   "cell_type": "markdown",
   "metadata": {},
   "source": [
    "_I'm interested in Data Science because of its curiosity environment. Every new DataSets comes with new story but generally people can't understand that but as a Data Scientist you can explain this story of datasets in your creative way._"
   ]
  },
  {
   "cell_type": "markdown",
   "metadata": {},
   "source": [
    "<h3>\n",
    "Below code is to check whether user and machine have same thinking or not by simply choosing number between 1-10\n",
    "</h3>"
   ]
  },
  {
   "cell_type": "code",
   "execution_count": 16,
   "metadata": {},
   "outputs": [
    {
     "name": "stdout",
     "output_type": "stream",
     "text": [
      "Let's match your thinking with machine\n",
      "\n"
     ]
    },
    {
     "name": "stdin",
     "output_type": "stream",
     "text": [
      "Think a number between 1-10, write and enter 5\n"
     ]
    },
    {
     "name": "stdout",
     "output_type": "stream",
     "text": [
      "\n",
      "Wait for Machine to decide a number........\n",
      "\n",
      "Machine choosen number 5\n",
      "\n",
      "Wooooohoooo! Your number is matched with machine's number\n"
     ]
    }
   ],
   "source": [
    "from time import sleep\n",
    "import random\n",
    "\n",
    "print('Let\\'s match your thinking with machine\\n')\n",
    "sleep(1.5)\n",
    "userInput = int(input('Think a number between 1-10, write and enter'))\n",
    "print('\\nWait for Machine to decide a number........\\n')\n",
    "sleep(1.5)\n",
    "inputNo = random.randint(1, 10)\n",
    "print('Machine choosen number ' + str(inputNo))\n",
    "sleep(1.5)\n",
    "if userInput == inputNo:\n",
    "    print('\\nWooooohoooo! Your number is matched with machine\\'s number')\n",
    "else:\n",
    "    print('\\nOoops number doesn\\'t match, please Try again!!')"
   ]
  },
  {
   "cell_type": "markdown",
   "metadata": {},
   "source": [
    "* Bulleted item 1\n",
    "* Bulleted item 2\n",
    "* Bulleted item 3\n",
    "\n",
    "1. Numbered item\n",
    "1. Numbered item\n",
    "\n",
    "*****"
   ]
  }
 ],
 "metadata": {
  "kernelspec": {
   "display_name": "Python",
   "language": "python",
   "name": "conda-env-python-py"
  },
  "language_info": {
   "codemirror_mode": {
    "name": "ipython",
    "version": 3
   },
   "file_extension": ".py",
   "mimetype": "text/x-python",
   "name": "python",
   "nbconvert_exporter": "python",
   "pygments_lexer": "ipython3",
   "version": "3.7.12"
  }
 },
 "nbformat": 4,
 "nbformat_minor": 4
}
